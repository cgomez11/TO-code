{
 "cells": [
  {
   "cell_type": "markdown",
   "metadata": {},
   "source": [
    "## Download TO "
   ]
  },
  {
   "cell_type": "code",
   "execution_count": 1,
   "metadata": {
    "collapsed": false
   },
   "outputs": [],
   "source": [
    "from bs4 import BeautifulSoup\n",
    "import urllib\n",
    "import wget\n",
    "import re\n",
    "from robobrowser import RoboBrowser\n",
    "import pandas as pd\n",
    "import datetime\n",
    "import astropy.time as astime\n",
    "import matplotlib\n",
    "import numpy as np\n",
    "#matplotlib.rc_file(\"../../templates/matplotlibrc\")\n",
    "import matplotlib.pyplot as plt\n",
    "%matplotlib inline\n",
    "from matplotlib.colors import LogNorm"
   ]
  },
  {
   "cell_type": "code",
   "execution_count": 2,
   "metadata": {
    "collapsed": true
   },
   "outputs": [],
   "source": [
    "all_TO_catalogue_url = 'http://nesssi.cacr.caltech.edu/catalina/CRTSII_Allupdate.html'\n",
    "SN_CSS_URL = 'http://nesssi.cacr.caltech.edu/catalina/AllSN.arch.html'\n",
    "CV_CSS_URL = 'http://nesssi.cacr.caltech.edu/catalina/AllCV.arch.html'\n",
    "BZ_CSS_URL = 'http://nesssi.cacr.caltech.edu/catalina/AllBlaz.arch.html'\n",
    "AST_CSS_URL = 'http://nesssi.cacr.caltech.edu/catalina/CRTSII_Ast.html' #tabla diferente!\n",
    "AGN_CSS_URL = 'http://nesssi.cacr.caltech.edu/catalina/AllAGN.arch.html'\n",
    "OTHER_CSS_URL = 'http://nesssi.cacr.caltech.edu/catalina/AllOth.arch.html'\n",
    "ALL_TO_list = [SN_CSS_URL, CV_CSS_URL, BZ_CSS_URL, AGN_CSS_URL, OTHER_CSS_URL]"
   ]
  },
  {
   "cell_type": "code",
   "execution_count": 3,
   "metadata": {
    "collapsed": true
   },
   "outputs": [],
   "source": [
    "#function that gets the LC points given an url\n",
    "#url_LC is a string\n",
    "def original_get_LC_points(url_LC):\n",
    "    aux_LC = urllib.request.urlopen(url_LC).read()\n",
    "    soup_LC = BeautifulSoup(aux_LC, \"lxml\")\n",
    "    #each point has a tag <area\n",
    "    area_rows = soup_LC.find_all(\"area\")\n",
    "    LC_x_list = []\n",
    "    LC_y_list = []\n",
    "    for aux in area_rows:\n",
    "        #onmouse over is the key that has the (x,y) points\n",
    "        list_str_points = aux['onmouseover'].split()\n",
    "        #position 0 has the x value\n",
    "        complete_x = list_str_points[0]\n",
    "        x_value = complete_x[complete_x.find(\"('\")+2:]\n",
    "        #change from mjd \n",
    "        x_year = astime.Time(float(x_value) + 53249, format='mjd')\n",
    "        x_decimal_year = x_year.decimalyear\n",
    "        LC_x_list.append(x_decimal_year)\n",
    "        #position 2 has the y value\n",
    "        complete_y = list_str_points[2]\n",
    "        y_value = complete_y[complete_y.find(\"('\")+2:complete_y.find(\"')\")]\n",
    "        LC_y_list.append(float(y_value))\n",
    "    LC_array = np.array([LC_x_list, LC_y_list])\n",
    "    LC_array = LC_array.T\n",
    "    return LC_array"
   ]
  },
  {
   "cell_type": "code",
   "execution_count": 4,
   "metadata": {
    "collapsed": false
   },
   "outputs": [],
   "source": [
    "def get_LC_points(url_LC):\n",
    "    aux_LC = urllib.request.urlopen(url_LC).read()\n",
    "    soup_LC = BeautifulSoup(aux_LC, \"lxml\")\n",
    "    #each point has a tag <area\n",
    "    area_rows = soup_LC.find_all(\"area\")\n",
    "    LC_x_list = []\n",
    "    LC_y_list = []\n",
    "    for aux in area_rows:\n",
    "        #onmouse over is the key that has the (x,y) points\n",
    "        list_str_points = aux['onmouseover'].split()\n",
    "        #position 0 has the x value\n",
    "        complete_x = list_str_points[0]\n",
    "        x_value = complete_x[complete_x.find(\"('\")+2:]\n",
    "        #change from mjd \n",
    "        x_year = astime.Time(float(x_value) + 53249, format='mjd')\n",
    "        x_decimal_year = x_year.decimalyear\n",
    "        LC_x_list.append(x_decimal_year)\n",
    "        #position 2 has the y value\n",
    "        complete_y = list_str_points[2]\n",
    "        y_value = complete_y[complete_y.find(\"('\")+2:complete_y.find(\"')\")]\n",
    "        LC_y_list.append(float(y_value))\n",
    "    if min(LC_x_list) >= 2012:\n",
    "        in_or_out=0\n",
    "    else:\n",
    "        in_or_out=1\n",
    "    #LC_array = np.array([LC_x_list, LC_y_list])\n",
    "    #LC_array = LC_array.T\n",
    "    #return LC_array\n",
    "    return in_or_out"
   ]
  },
  {
   "cell_type": "markdown",
   "metadata": {},
   "source": [
    "## Iterate over all the catalogues"
   ]
  },
  {
   "cell_type": "code",
   "execution_count": 24,
   "metadata": {
    "collapsed": false
   },
   "outputs": [],
   "source": [
    "def get_all_TO(TO_url):\n",
    "    aux_soup_TO = urllib.request.urlopen(TO_url).read()\n",
    "    soup_all_catalogue = BeautifulSoup(aux_soup_TO, \"lxml\")\n",
    "    rows = soup_all_catalogue.find_all(\"tr\") #each row is an object\n",
    "    url_LC_list =[]\n",
    "    object_id_list = []\n",
    "    ra_object_list = []\n",
    "    dec_object_list = []\n",
    "    mag_object_list = []\n",
    "    type_object_list = []\n",
    "    error_mag_list = []\n",
    "    #iterate over all the TO within each type\n",
    "    for index in rows:\n",
    "        #extract the contents of each row\n",
    "        list_each_row = list(index.contents)\n",
    "        #extract url\n",
    "        #print(list_each_row)\n",
    "        string_url = str(list_each_row[10]) #element number 11 has the url of the LC\n",
    "        start =string_url.find('http')\n",
    "        end = string_url.find('.html',start)\n",
    "        string_url = string_url[start:end+5]\n",
    "        url_LC_list.append(string_url)\n",
    "        #extract object id\n",
    "        object_id_list.append(list_each_row[0].getText()[0:-1])\n",
    "        #extract RA\n",
    "        ra_object_list.append(list_each_row[1].getText())\n",
    "        #extract DEC\n",
    "        dec_object_list.append(list_each_row[2].getText())\n",
    "        #extract magnitude\n",
    "        #mag_object_list.append(list_each_row[4].getText())\n",
    "        mag_object_list.append(list_each_row[3].getText())\n",
    "        #extract magnitude error\n",
    "        error_mag_list.append(list_each_row[4].getText())\n",
    "        #extract object type\n",
    "        #type_object_list.append(list_each_row[9].getText()) \n",
    "        type_object_list.append(list_each_row[12].getText()) \n",
    "    data = {'CRTS ID' : object_id_list[1:], ra_object_list[0] : ra_object_list[1:], \n",
    "        dec_object_list[0][0:3] : dec_object_list[1:], mag_object_list[0] :mag_object_list[1:], \n",
    "       type_object_list[0] : type_object_list[1:], 'URL LC' : url_LC_list[1:], 'Mag ER': error_mag_list[1:]}\n",
    "    df_all_objects = pd.DataFrame(data)\n",
    "    return df_all_objects        \n",
    "    "
   ]
  },
  {
   "cell_type": "code",
   "execution_count": 25,
   "metadata": {
    "collapsed": false
   },
   "outputs": [
    {
     "ename": "IndexError",
     "evalue": "list index out of range",
     "output_type": "error",
     "traceback": [
      "\u001b[0;31m---------------------------------------------------------------------------\u001b[0m",
      "\u001b[0;31mIndexError\u001b[0m                                Traceback (most recent call last)",
      "\u001b[0;32m<ipython-input-25-d106f80a488d>\u001b[0m in \u001b[0;36m<module>\u001b[0;34m()\u001b[0m\n\u001b[0;32m----> 1\u001b[0;31m \u001b[0mdf_SN\u001b[0m \u001b[0;34m=\u001b[0m \u001b[0mget_all_TO\u001b[0m\u001b[0;34m(\u001b[0m\u001b[0mALL_TO_list\u001b[0m\u001b[0;34m[\u001b[0m\u001b[0;36m2\u001b[0m\u001b[0;34m]\u001b[0m\u001b[0;34m)\u001b[0m\u001b[0;34m\u001b[0m\u001b[0m\n\u001b[0m",
      "\u001b[0;32m<ipython-input-24-5a240ed75902>\u001b[0m in \u001b[0;36mget_all_TO\u001b[0;34m(TO_url)\u001b[0m\n\u001b[1;32m     16\u001b[0m         \u001b[0;31m#extract url\u001b[0m\u001b[0;34m\u001b[0m\u001b[0;34m\u001b[0m\u001b[0m\n\u001b[1;32m     17\u001b[0m         \u001b[0;31m#print(list_each_row)\u001b[0m\u001b[0;34m\u001b[0m\u001b[0;34m\u001b[0m\u001b[0m\n\u001b[0;32m---> 18\u001b[0;31m         \u001b[0mstring_url\u001b[0m \u001b[0;34m=\u001b[0m \u001b[0mstr\u001b[0m\u001b[0;34m(\u001b[0m\u001b[0mlist_each_row\u001b[0m\u001b[0;34m[\u001b[0m\u001b[0;36m10\u001b[0m\u001b[0;34m]\u001b[0m\u001b[0;34m)\u001b[0m \u001b[0;31m#element number 11 has the url of the LC\u001b[0m\u001b[0;34m\u001b[0m\u001b[0m\n\u001b[0m\u001b[1;32m     19\u001b[0m         \u001b[0mstart\u001b[0m \u001b[0;34m=\u001b[0m\u001b[0mstring_url\u001b[0m\u001b[0;34m.\u001b[0m\u001b[0mfind\u001b[0m\u001b[0;34m(\u001b[0m\u001b[0;34m'http'\u001b[0m\u001b[0;34m)\u001b[0m\u001b[0;34m\u001b[0m\u001b[0m\n\u001b[1;32m     20\u001b[0m         \u001b[0mend\u001b[0m \u001b[0;34m=\u001b[0m \u001b[0mstring_url\u001b[0m\u001b[0;34m.\u001b[0m\u001b[0mfind\u001b[0m\u001b[0;34m(\u001b[0m\u001b[0;34m'.html'\u001b[0m\u001b[0;34m,\u001b[0m\u001b[0mstart\u001b[0m\u001b[0;34m)\u001b[0m\u001b[0;34m\u001b[0m\u001b[0m\n",
      "\u001b[0;31mIndexError\u001b[0m: list index out of range"
     ]
    }
   ],
   "source": [
    "df_SN = get_all_TO(ALL_TO_list[2])"
   ]
  },
  {
   "cell_type": "code",
   "execution_count": 20,
   "metadata": {
    "collapsed": false
   },
   "outputs": [
    {
     "data": {
      "text/html": [
       "<div>\n",
       "<table border=\"1\" class=\"dataframe\">\n",
       "  <thead>\n",
       "    <tr style=\"text-align: right;\">\n",
       "      <th></th>\n",
       "      <th>CRTS ID</th>\n",
       "      <th>Dec</th>\n",
       "      <th>FC</th>\n",
       "      <th>Mag</th>\n",
       "      <th>Mag ER</th>\n",
       "      <th>RA (J2000)</th>\n",
       "      <th>URL LC</th>\n",
       "    </tr>\n",
       "  </thead>\n",
       "  <tbody>\n",
       "    <tr>\n",
       "      <th>0</th>\n",
       "      <td>CSS161109:093032+203629</td>\n",
       "      <td>20.60814</td>\n",
       "      <td>yes</td>\n",
       "      <td>18.44</td>\n",
       "      <td>2.36</td>\n",
       "      <td>142.63453</td>\n",
       "      <td></td>\n",
       "    </tr>\n",
       "    <tr>\n",
       "      <th>1</th>\n",
       "      <td>CSS161109:035036+135451</td>\n",
       "      <td>13.91412</td>\n",
       "      <td>yes</td>\n",
       "      <td>17.51</td>\n",
       "      <td>-1.51</td>\n",
       "      <td>57.65194</td>\n",
       "      <td></td>\n",
       "    </tr>\n",
       "    <tr>\n",
       "      <th>2</th>\n",
       "      <td>CSS161108:092517+553459</td>\n",
       "      <td>55.58309</td>\n",
       "      <td>yes</td>\n",
       "      <td>17.96</td>\n",
       "      <td>-3.46</td>\n",
       "      <td>141.31900</td>\n",
       "      <td></td>\n",
       "    </tr>\n",
       "    <tr>\n",
       "      <th>3</th>\n",
       "      <td>CSS161107:012407+231107</td>\n",
       "      <td>23.18541</td>\n",
       "      <td>yes</td>\n",
       "      <td>19.75</td>\n",
       "      <td>2.25</td>\n",
       "      <td>21.02794</td>\n",
       "      <td></td>\n",
       "    </tr>\n",
       "    <tr>\n",
       "      <th>4</th>\n",
       "      <td>CSS161106:004134+202046</td>\n",
       "      <td>20.34622</td>\n",
       "      <td>yes</td>\n",
       "      <td>19.58</td>\n",
       "      <td>1.82</td>\n",
       "      <td>10.39148</td>\n",
       "      <td></td>\n",
       "    </tr>\n",
       "  </tbody>\n",
       "</table>\n",
       "</div>"
      ],
      "text/plain": [
       "                   CRTS ID        Dec   FC    Mag Mag ER RA (J2000) URL LC\n",
       "0  CSS161109:093032+203629   20.60814  yes  18.44   2.36  142.63453       \n",
       "1  CSS161109:035036+135451   13.91412  yes  17.51  -1.51   57.65194       \n",
       "2  CSS161108:092517+553459   55.58309  yes  17.96  -3.46  141.31900       \n",
       "3  CSS161107:012407+231107   23.18541  yes  19.75   2.25   21.02794       \n",
       "4  CSS161106:004134+202046   20.34622  yes  19.58   1.82   10.39148       "
      ]
     },
     "execution_count": 20,
     "metadata": {},
     "output_type": "execute_result"
    }
   ],
   "source": [
    "df_SN.head()"
   ]
  },
  {
   "cell_type": "markdown",
   "metadata": {},
   "source": [
    "## Append the light curve for each object"
   ]
  },
  {
   "cell_type": "code",
   "execution_count": null,
   "metadata": {
    "collapsed": false
   },
   "outputs": [],
   "source": [
    "df_all_objects = df_SN\n",
    "for it, rows_df in df_all_objects.iterrows():\n",
    "    list_LC_2012 = get_LC_points(rows_df['URL LC'])\n",
    "    #df_all_objects.append({'LC array': LC_data}, ignore_index=True)"
   ]
  },
  {
   "cell_type": "code",
   "execution_count": null,
   "metadata": {
    "collapsed": false
   },
   "outputs": [],
   "source": [
    "df_all_objects['Dec']"
   ]
  },
  {
   "cell_type": "code",
   "execution_count": 130,
   "metadata": {
    "collapsed": false
   },
   "outputs": [
    {
     "name": "stdout",
     "output_type": "stream",
     "text": [
      "<class 'bs4.element.ResultSet'>\n"
     ]
    }
   ],
   "source": [
    "#aux_TO = urllib.request.urlopen(all_TO_catalogue_url).read()\n",
    "aux_TO = urllib.request.urlopen(BZ_CSS_URL).read()\n",
    "soup_all_catalogue = BeautifulSoup(aux_TO, \"lxml\")\n",
    "rows = soup_all_catalogue.find_all(\"tr\") #each row is an object\n",
    "link_LC = soup_all_catalogue.find_all(\"td\")\n",
    "print(type(rows))"
   ]
  },
  {
   "cell_type": "code",
   "execution_count": 133,
   "metadata": {
    "collapsed": false
   },
   "outputs": [
    {
     "name": "stdout",
     "output_type": "stream",
     "text": [
      "18.1\n"
     ]
    }
   ],
   "source": [
    "fo = rows[25]\n",
    "list_aux = list(fo.contents)\n",
    "print(list_aux[3].getText()[0:-1])\n",
    "aux = fo.getText().strip().split()\n",
    "#print(aux[2])\n",
    "#print(type(aux))\n",
    "#print(df_all_objects.shape[0])"
   ]
  },
  {
   "cell_type": "code",
   "execution_count": 134,
   "metadata": {
    "collapsed": false
   },
   "outputs": [
    {
     "name": "stdout",
     "output_type": "stream",
     "text": [
      "                   CRTS ID                   Classification        Dec    Mag  \\\n",
      "2  CSS160709:000132+211336   Blazar CRATES_J0001+2113         21.22680  17.21   \n",
      "3  CSS160708:141126+524925         Blazar SDSS mag 21,3       52.82354  18.04   \n",
      "\n",
      "  RA (J2000)                                             URL_LC  \n",
      "2    0.38474  http://nesssi.cacr.caltech.edu/catalina/201607...  \n",
      "3  212.85706  http://nesssi.cacr.caltech.edu/catalina/201607...  \n"
     ]
    }
   ],
   "source": [
    "url_LC_list =[]\n",
    "object_id_list = []\n",
    "ra_object_list = []\n",
    "dec_object_list = []\n",
    "mag_object_list = []\n",
    "type_object_list = []\n",
    "#iterate over all the TO within each type\n",
    "for i in range(len(rows)):\n",
    "    list_each_row = list(rows[i].contents)\n",
    "    if i == 255:\n",
    "        continue\n",
    "    #print(list_each_row)\n",
    "    #extract url\n",
    "    string_url = str(list_each_row[10]) #element number 7 always has the url of the LC\n",
    "    start =string_url.find('http')\n",
    "    end = string_url.find('.html',start)\n",
    "    string_url = string_url[start:end+5]\n",
    "    url_LC_list.append(string_url)\n",
    "    #extract object id\n",
    "    object_id_list.append(list_each_row[0].getText()[0:-1])\n",
    "    #extract RA\n",
    "    ra_object_list.append(list_each_row[1].getText())\n",
    "    #extract DEC\n",
    "    dec_object_list.append(list_each_row[2].getText())\n",
    "    #extract magnitude\n",
    "    #mag_object_list.append(list_each_row[4].getText())\n",
    "    mag_object_list.append(list_each_row[3].getText())\n",
    "    #extract object type\n",
    "    #type_object_list.append(list_each_row[9].getText()) \n",
    "    type_object_list.append(list_each_row[12].getText()) \n",
    "    #print(string_url)\n",
    "data = {'CRTS ID' : object_id_list[1:], ra_object_list[0] : ra_object_list[1:], \n",
    "        dec_object_list[0][0:3] : dec_object_list[1:], mag_object_list[0] :mag_object_list[1:], \n",
    "       type_object_list[0] : type_object_list[1:], 'URL_LC' : url_LC_list[1:]}\n",
    "df_all_objects = pd.DataFrame(data)\n",
    "print(df_all_objects.iloc[2:)\n",
    "#print(url_LC.get_text())\n",
    "#print(len(r.contents))"
   ]
  },
  {
   "cell_type": "code",
   "execution_count": null,
   "metadata": {
    "collapsed": false
   },
   "outputs": [],
   "source": [
    "list_each_row[0].getText()[0:-1]"
   ]
  },
  {
   "cell_type": "markdown",
   "metadata": {},
   "source": [
    "## Download LCs"
   ]
  },
  {
   "cell_type": "code",
   "execution_count": 109,
   "metadata": {
    "collapsed": false
   },
   "outputs": [
    {
     "name": "stdout",
     "output_type": "stream",
     "text": [
      "http://nesssi.cacr.caltech.edu/catalina/20170925/1709250020194227841p.html\n"
     ]
    }
   ],
   "source": [
    "#for each object, download its corresponding light curve \n",
    "#url_LC = df_all_objects.iloc[0]['URL LC']\n",
    "url_LC ='http://nesssi.cacr.caltech.edu/catalina/20170925/1709250020194227841p.html'\n",
    "aux_LC = urllib.request.urlopen(url_LC).read()\n",
    "soup_LC = BeautifulSoup(aux_LC, \"lxml\")\n",
    "area_rows = soup_LC.find_all(\"area\")\n",
    "print(url_LC)\n",
    "#print(area_rows[2])"
   ]
  },
  {
   "cell_type": "code",
   "execution_count": 110,
   "metadata": {
    "collapsed": false
   },
   "outputs": [],
   "source": [
    "LC_x_list = []\n",
    "LC_y_list = []\n",
    "#aux = area_rows[-1]\n",
    "for aux in area_rows:\n",
    "    list_str_points = aux['onmouseover'].split()\n",
    "    complete_x = list_str_points[0]\n",
    "    x_value = complete_x[complete_x.find(\"('\")+2:]\n",
    "    x_decimal_year = astime.Time(float(x_value) + 53249, format='mjd')\n",
    "    x_decimal_year = x_decimal_year.decimalyear\n",
    "    LC_x_list.append(x_decimal_year)\n",
    "    complete_y = list_str_points[2]\n",
    "    y_value = complete_y[complete_y.find(\"('\")+2:complete_y.find(\"')\")]\n",
    "    LC_y_list.append(float(y_value))\n",
    "#print(LC_x_list)\n",
    "LC_x_array = np.array(LC_x_list)\n",
    "LC_y_array = np.array(LC_y_list)\n",
    "LC_array = np.array([LC_x_list, LC_y_list])\n",
    "LC_array = LC_array.T"
   ]
  },
  {
   "cell_type": "code",
   "execution_count": 111,
   "metadata": {
    "collapsed": false
   },
   "outputs": [
    {
     "data": {
      "image/png": "[encoded data removed]",
      "text/plain": [
       "<matplotlib.figure.Figure at 0x7ff91943e940>"
      ]
     },
     "metadata": {},
     "output_type": "display_data"
    }
   ],
   "source": [
    "#Plot light curve \n",
    "plt.scatter(LC_x_list, LC_y_list, s = 5)\n",
    "plt.xlabel('Time(years)')\n",
    "plt.ylabel('Magnitude')\n",
    "plt.gca().invert_yaxis()\n",
    "plt.show()"
   ]
  },
  {
   "cell_type": "code",
   "execution_count": null,
   "metadata": {
    "collapsed": true
   },
   "outputs": [],
   "source": []
  }
 ],
 "metadata": {
  "kernelspec": {
   "display_name": "Python 3",
   "language": "python",
   "name": "python3"
  },
  "language_info": {
   "codemirror_mode": {
    "name": "ipython",
    "version": 3
   },
   "file_extension": ".py",
   "mimetype": "text/x-python",
   "name": "python",
   "nbconvert_exporter": "python",
   "pygments_lexer": "ipython3",
   "version": "3.6.0"
  }
 },
 "nbformat": 4,
 "nbformat_minor": 2
}
