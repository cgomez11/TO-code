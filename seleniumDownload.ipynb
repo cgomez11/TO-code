{
 "cells": [
  {
   "cell_type": "code",
   "execution_count": 16,
   "metadata": {
    "collapsed": true
   },
   "outputs": [],
   "source": [
    "from selenium import webdriver\n",
    "import time"
   ]
  },
  {
   "cell_type": "code",
   "execution_count": 17,
   "metadata": {
    "collapsed": false
   },
   "outputs": [],
   "source": [
    "path_to_chromedriver = '/home/oem/Desktop/chromedriver' #chrome driver segun mi version de chrome!\n",
    "browser = webdriver.Chrome(executable_path=path_to_chromedriver)"
   ]
  },
  {
   "cell_type": "code",
   "execution_count": 60,
   "metadata": {
    "collapsed": false
   },
   "outputs": [],
   "source": [
    "my_url = 'http://crts.iucaa.in/CRTS/'\n",
    "browser.get(my_url)\n",
    "browser.find_element_by_id('query_box').clear()\n",
    "browser.find_element_by_id('query_box').send_keys('172.51287 28.11336')\n",
    "time.sleep(3)\n",
    "browser.find_element_by_css_selector('button[type=\\\"submit\\\"]').click()\n",
    "browser.switch_to_default_content()"
   ]
  },
  {
   "cell_type": "code",
   "execution_count": 56,
   "metadata": {
    "collapsed": false
   },
   "outputs": [],
   "source": [
    "#select one image\n",
    "browser.find_element_by_name('downloadSelector').click()\n",
    "#click download selected images\n",
    "browser.find_element_by_css_selector('input[type=\\\"submit\\\"]').click()\n",
    "#download all the images with the checkbox filled \n",
    "browser.find_element_by_class_name('downloadLink').click()\n",
    "#x.click()"
   ]
  },
  {
   "cell_type": "code",
   "execution_count": 103,
   "metadata": {
    "collapsed": false
   },
   "outputs": [],
   "source": [
    "#select multiple images: search by xpath \n",
    "#tr[N] indicates the row in the table \n",
    "#necesito buscar especificando el 5 td de cada tr\n",
    "year = '06FEB'\n",
    "cutout_location = '1431'\n",
    "row_table = 1\n",
    "#rows_to_download = []\n",
    "finished = False \n",
    "while not finished:\n",
    "    try:\n",
    "        xpath = '//*[@id=\"outTable\"]/form/table/tbody/tr[' + str(row_table) + ']/td[5]' #at td[5] is the name of the image \n",
    "        x = browser.find_element_by_xpath(xpath)\n",
    "        file_name = x.text.split('_')\n",
    "        \n",
    "        if file_name[1].startswith(year) and file_name[-1].endswith(cutout_location + '.fits'):\n",
    "            #rows_to_download.append(row_table)\n",
    "            xpath_row = '//*[@id=\"outTable\"]/form/table/tbody/tr[' + str(row_table) + ']/td[1]/input'\n",
    "            browser.find_element_by_xpath(xpath_row).click()\n",
    "    except:\n",
    "        finished = True\n",
    "    row_table += 1  \n",
    "\n",
    "#xpath_row = '//*[@id=\"outTable\"]/form/table/tbody/tr[' + row + ']/td[1]/input'\n",
    "#x.click()\n",
    "#print(file_name)"
   ]
  },
  {
   "cell_type": "code",
   "execution_count": 53,
   "metadata": {
    "collapsed": true
   },
   "outputs": [],
   "source": [
    "#select all the images \n",
    "browser.find_element_by_id('selectAllBox').click()\n",
    "browser.find_element_by_css_selector('input[type=\\\"submit\\\"]').click()\n",
    "#download all the images with the checkbox filled \n",
    "browser.find_element_by_class_name('downloadLink').click()"
   ]
  },
  {
   "cell_type": "code",
   "execution_count": 55,
   "metadata": {
    "collapsed": false
   },
   "outputs": [],
   "source": [
    "\n",
    "//*[@id=\"outTable\"]/form/table/tbody/tr[2]/td[1]/input\n",
    "//*[@id=\"outTable\"]/form/table/tbody/tr[2]/td[5]"
   ]
  },
  {
   "cell_type": "code",
   "execution_count": null,
   "metadata": {
    "collapsed": true
   },
   "outputs": [],
   "source": []
  }
 ],
 "metadata": {
  "kernelspec": {
   "display_name": "Python 3",
   "language": "python",
   "name": "python3"
  },
  "language_info": {
   "codemirror_mode": {
    "name": "ipython",
    "version": 3
   },
   "file_extension": ".py",
   "mimetype": "text/x-python",
   "name": "python",
   "nbconvert_exporter": "python",
   "pygments_lexer": "ipython3",
   "version": "3.6.0"
  }
 },
 "nbformat": 4,
 "nbformat_minor": 2
}
